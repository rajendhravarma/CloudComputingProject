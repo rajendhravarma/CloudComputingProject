{
 "cells": [
  {
   "cell_type": "code",
   "execution_count": 76,
   "metadata": {},
   "outputs": [],
   "source": [
    "from sklearn.feature_extraction.text import TfidfVectorizer\n",
    "from sklearn.linear_model import LogisticRegression\n",
    "from sklearn.metrics import confusion_matrix, ConfusionMatrixDisplay\n",
    "from sklearn.model_selection import train_test_split\n",
    "from sklearn.metrics import accuracy_score\n",
    "import seaborn as sns\n",
    "\n",
    "\n",
    "import pickle\n",
    "from joblib import dump, load\n",
    "import pandas as pd\n",
    "import numpy as np\n",
    "pd.set_option('max_colwidth', 500)"
   ]
  },
  {
   "cell_type": "code",
   "execution_count": 20,
   "metadata": {},
   "outputs": [],
   "source": [
    "dataset = pd.read_csv(\"cleaned_dataset_v2.csv\")"
   ]
  },
  {
   "cell_type": "code",
   "execution_count": 18,
   "metadata": {},
   "outputs": [],
   "source": [
    "new_df = dataset[:20000]\n",
    "tag_list = ['c#', 'java', 'asp.net', 'c++', 'javascript', 'php', 'python', 'git', 'sql']"
   ]
  },
  {
   "cell_type": "code",
   "execution_count": 22,
   "metadata": {},
   "outputs": [],
   "source": [
    "git_data = dataset[dataset['tag']=='git'][:150]"
   ]
  },
  {
   "cell_type": "code",
   "execution_count": 25,
   "metadata": {},
   "outputs": [],
   "source": [
    "final_dataset = pd.concat([git_data, new_df[new_df['tag'].isin(tag_list)]], ignore_index=True)"
   ]
  },
  {
   "cell_type": "code",
   "execution_count": 27,
   "metadata": {},
   "outputs": [
    {
     "data": {
      "text/html": [
       "<div>\n",
       "<style scoped>\n",
       "    .dataframe tbody tr th:only-of-type {\n",
       "        vertical-align: middle;\n",
       "    }\n",
       "\n",
       "    .dataframe tbody tr th {\n",
       "        vertical-align: top;\n",
       "    }\n",
       "\n",
       "    .dataframe thead th {\n",
       "        text-align: right;\n",
       "    }\n",
       "</style>\n",
       "<table border=\"1\" class=\"dataframe\">\n",
       "  <thead>\n",
       "    <tr style=\"text-align: right;\">\n",
       "      <th></th>\n",
       "      <th>id</th>\n",
       "      <th>title</th>\n",
       "      <th>tag</th>\n",
       "    </tr>\n",
       "  </thead>\n",
       "  <tbody>\n",
       "    <tr>\n",
       "      <th>0</th>\n",
       "      <td>52950</td>\n",
       "      <td>make git ignore changes case</td>\n",
       "      <td>git</td>\n",
       "    </tr>\n",
       "    <tr>\n",
       "      <th>1</th>\n",
       "      <td>53290</td>\n",
       "      <td>could get svnonly host pull git repository</td>\n",
       "      <td>git</td>\n",
       "    </tr>\n",
       "    <tr>\n",
       "      <th>2</th>\n",
       "      <td>98400</td>\n",
       "      <td>examine configuration remote git repository</td>\n",
       "      <td>git</td>\n",
       "    </tr>\n",
       "    <tr>\n",
       "      <th>3</th>\n",
       "      <td>156120</td>\n",
       "      <td>source code management strategies  branching</td>\n",
       "      <td>git</td>\n",
       "    </tr>\n",
       "    <tr>\n",
       "      <th>4</th>\n",
       "      <td>171550</td>\n",
       "      <td>find remote branch local branch tracking</td>\n",
       "      <td>git</td>\n",
       "    </tr>\n",
       "  </tbody>\n",
       "</table>\n",
       "</div>"
      ],
      "text/plain": [
       "       id                                         title  tag\n",
       "0   52950                  make git ignore changes case  git\n",
       "1   53290    could get svnonly host pull git repository  git\n",
       "2   98400   examine configuration remote git repository  git\n",
       "3  156120  source code management strategies  branching  git\n",
       "4  171550      find remote branch local branch tracking  git"
      ]
     },
     "execution_count": 27,
     "metadata": {},
     "output_type": "execute_result"
    }
   ],
   "source": [
    "final_dataset.head()"
   ]
  },
  {
   "cell_type": "code",
   "execution_count": 28,
   "metadata": {},
   "outputs": [
    {
     "data": {
      "text/plain": [
       "c#            862\n",
       "java          497\n",
       "asp.net       457\n",
       "c++           374\n",
       "javascript    317\n",
       "php           274\n",
       "python        261\n",
       "sql           240\n",
       "git           166\n",
       "Name: tag, dtype: int64"
      ]
     },
     "execution_count": 28,
     "metadata": {},
     "output_type": "execute_result"
    }
   ],
   "source": [
    "final_dataset['tag'].value_counts()"
   ]
  },
  {
   "cell_type": "code",
   "execution_count": 30,
   "metadata": {},
   "outputs": [
    {
     "data": {
      "text/plain": [
       "[('mail-gem', 0),\n",
       " ('syncfx', 1),\n",
       " ('closest-points', 2),\n",
       " ('linearlayoutmanager', 3),\n",
       " ('rubber', 4),\n",
       " ('jsch', 5),\n",
       " ('epplus', 6),\n",
       " ('type-coercion', 7),\n",
       " ('epoch.js', 8),\n",
       " ('url-masking', 9)]"
      ]
     },
     "execution_count": 30,
     "metadata": {},
     "output_type": "execute_result"
    }
   ],
   "source": [
    "unique_tags = list(set(final_dataset.tag.dropna().to_list()))\n",
    "\n",
    "with open(\"/home/aditya_bagad2/unique_tags\", \"wb\") as fp:\n",
    "    pickle.dump(unique_tags, fp)\n",
    "\n",
    "with open(\"/home/aditya_bagad2/unique_tags\", \"rb\") as fp:\n",
    "    b = pickle.load(fp)\n",
    "\n",
    "unique_tags_dict = {i:b[i] for i in range(len(b))}\n",
    "\n",
    "with open(\"/home/aditya_bagad2/unique_tags_dict\", \"wb\") as fp:\n",
    "    pickle.dump(unique_tags_dict, fp)\n",
    "\n",
    "with open(\"/home/aditya_bagad2/unique_tags_dict\", \"rb\") as fp:\n",
    "    unique_tags_dict = pickle.load(fp)\n",
    "\n",
    "# list(unique_tags_dict.items())[:10]\n",
    "\n",
    "inv_map = {v: k for k, v in unique_tags_dict.items()}\n",
    "\n",
    "list(inv_map.items())[:10]"
   ]
  },
  {
   "cell_type": "code",
   "execution_count": 32,
   "metadata": {},
   "outputs": [],
   "source": [
    "# Id Mapping\n",
    "final_dataset['tag_id'] = final_dataset['tag'].map(lambda x: inv_map[x])"
   ]
  },
  {
   "cell_type": "code",
   "execution_count": 34,
   "metadata": {},
   "outputs": [
    {
     "data": {
      "text/html": [
       "<div>\n",
       "<style scoped>\n",
       "    .dataframe tbody tr th:only-of-type {\n",
       "        vertical-align: middle;\n",
       "    }\n",
       "\n",
       "    .dataframe tbody tr th {\n",
       "        vertical-align: top;\n",
       "    }\n",
       "\n",
       "    .dataframe thead th {\n",
       "        text-align: right;\n",
       "    }\n",
       "</style>\n",
       "<table border=\"1\" class=\"dataframe\">\n",
       "  <thead>\n",
       "    <tr style=\"text-align: right;\">\n",
       "      <th></th>\n",
       "      <th>id</th>\n",
       "      <th>title</th>\n",
       "      <th>tag</th>\n",
       "      <th>tag_id</th>\n",
       "    </tr>\n",
       "  </thead>\n",
       "  <tbody>\n",
       "    <tr>\n",
       "      <th>0</th>\n",
       "      <td>52950</td>\n",
       "      <td>make git ignore changes case</td>\n",
       "      <td>git</td>\n",
       "      <td>9303</td>\n",
       "    </tr>\n",
       "    <tr>\n",
       "      <th>1</th>\n",
       "      <td>53290</td>\n",
       "      <td>could get svnonly host pull git repository</td>\n",
       "      <td>git</td>\n",
       "      <td>9303</td>\n",
       "    </tr>\n",
       "    <tr>\n",
       "      <th>2</th>\n",
       "      <td>98400</td>\n",
       "      <td>examine configuration remote git repository</td>\n",
       "      <td>git</td>\n",
       "      <td>9303</td>\n",
       "    </tr>\n",
       "    <tr>\n",
       "      <th>3</th>\n",
       "      <td>156120</td>\n",
       "      <td>source code management strategies  branching</td>\n",
       "      <td>git</td>\n",
       "      <td>9303</td>\n",
       "    </tr>\n",
       "    <tr>\n",
       "      <th>4</th>\n",
       "      <td>171550</td>\n",
       "      <td>find remote branch local branch tracking</td>\n",
       "      <td>git</td>\n",
       "      <td>9303</td>\n",
       "    </tr>\n",
       "  </tbody>\n",
       "</table>\n",
       "</div>"
      ],
      "text/plain": [
       "       id                                         title  tag  tag_id\n",
       "0   52950                  make git ignore changes case  git    9303\n",
       "1   53290    could get svnonly host pull git repository  git    9303\n",
       "2   98400   examine configuration remote git repository  git    9303\n",
       "3  156120  source code management strategies  branching  git    9303\n",
       "4  171550      find remote branch local branch tracking  git    9303"
      ]
     },
     "execution_count": 34,
     "metadata": {},
     "output_type": "execute_result"
    }
   ],
   "source": [
    "final_dataset.head()"
   ]
  },
  {
   "cell_type": "code",
   "execution_count": 35,
   "metadata": {},
   "outputs": [
    {
     "data": {
      "text/plain": [
       "24182    862\n",
       "31382    497\n",
       "810      457\n",
       "8596     374\n",
       "6701     317\n",
       "26612    274\n",
       "4074     261\n",
       "27974    240\n",
       "9303     166\n",
       "Name: tag_id, dtype: int64"
      ]
     },
     "execution_count": 35,
     "metadata": {},
     "output_type": "execute_result"
    }
   ],
   "source": [
    "final_dataset.tag_id.value_counts()"
   ]
  },
  {
   "cell_type": "code",
   "execution_count": 37,
   "metadata": {},
   "outputs": [],
   "source": [
    "# Training Labels\n",
    "X1 = final_dataset['title']\n",
    "\n",
    "# Create Object for Tf-Idf Vectorizer Object\n",
    "vectorizer_X1 = TfidfVectorizer(analyzer = 'word')\n",
    "\n",
    "# Create TF-Idf Vectorizer\n",
    "X1_tfidf = vectorizer_X1.fit_transform(X1)"
   ]
  },
  {
   "cell_type": "code",
   "execution_count": 38,
   "metadata": {},
   "outputs": [
    {
     "data": {
      "text/plain": [
       "['title_vocab_v4.joblib']"
      ]
     },
     "execution_count": 38,
     "metadata": {},
     "output_type": "execute_result"
    }
   ],
   "source": [
    "dump(vectorizer_X1, 'title_vocab_v4.joblib')"
   ]
  },
  {
   "cell_type": "code",
   "execution_count": 39,
   "metadata": {},
   "outputs": [],
   "source": [
    "# Target\n",
    "y = final_dataset['tag_id']"
   ]
  },
  {
   "cell_type": "code",
   "execution_count": 40,
   "metadata": {},
   "outputs": [
    {
     "data": {
      "text/plain": [
       "((3448, 4237), (3448,))"
      ]
     },
     "execution_count": 40,
     "metadata": {},
     "output_type": "execute_result"
    }
   ],
   "source": [
    "X1_tfidf.shape, y.shape"
   ]
  },
  {
   "cell_type": "code",
   "execution_count": 41,
   "metadata": {},
   "outputs": [],
   "source": [
    "X_train, X_test, y_train, y_test = train_test_split(X1_tfidf, y, test_size = 0.2, random_state = 0)"
   ]
  },
  {
   "cell_type": "code",
   "execution_count": 42,
   "metadata": {},
   "outputs": [],
   "source": [
    "log_reg = LogisticRegression()"
   ]
  },
  {
   "cell_type": "code",
   "execution_count": 43,
   "metadata": {},
   "outputs": [
    {
     "data": {
      "text/plain": [
       "LogisticRegression()"
      ]
     },
     "execution_count": 43,
     "metadata": {},
     "output_type": "execute_result"
    }
   ],
   "source": [
    "log_reg.fit(X_train, y_train)"
   ]
  },
  {
   "cell_type": "code",
   "execution_count": 44,
   "metadata": {},
   "outputs": [],
   "source": [
    "y_pred = log_reg.predict(X_test)"
   ]
  },
  {
   "cell_type": "code",
   "execution_count": 45,
   "metadata": {},
   "outputs": [
    {
     "data": {
      "text/plain": [
       "0.5449275362318841"
      ]
     },
     "execution_count": 45,
     "metadata": {},
     "output_type": "execute_result"
    }
   ],
   "source": [
    "accuracy_score(y_test, y_pred)"
   ]
  },
  {
   "cell_type": "code",
   "execution_count": 87,
   "metadata": {},
   "outputs": [
    {
     "data": {
      "text/plain": [
       "array([[ 47,   0,   8,   0,   0,  44,   1,   0,   0],\n",
       "       [  0,  34,   1,   0,   0,  28,   0,   0,   1],\n",
       "       [  7,   1,  37,   0,   0,  27,   0,   1,   1],\n",
       "       [  0,   1,   0,  12,   0,  62,   0,   0,   3],\n",
       "       [  0,   0,   0,   0,  23,   6,   0,   0,   0],\n",
       "       [  7,   0,   2,   6,   0, 128,   1,   6,   1],\n",
       "       [  0,   0,   1,   1,   0,  28,  20,   1,   2],\n",
       "       [  0,   0,   0,   0,   0,  19,   0,  21,   1],\n",
       "       [  0,   0,   0,   2,   0,  43,   0,   1,  54]], dtype=int64)"
      ]
     },
     "execution_count": 87,
     "metadata": {},
     "output_type": "execute_result"
    }
   ],
   "source": [
    "cm = confusion_matrix(y_test, y_pred)\n",
    "cm"
   ]
  },
  {
   "cell_type": "code",
   "execution_count": 47,
   "metadata": {},
   "outputs": [
    {
     "data": {
      "text/plain": [
       "['LogisticRegression_v2.joblib']"
      ]
     },
     "execution_count": 47,
     "metadata": {},
     "output_type": "execute_result"
    }
   ],
   "source": [
    "dump(log_reg, 'LogisticRegression_v2.joblib')"
   ]
  },
  {
   "cell_type": "code",
   "execution_count": 48,
   "metadata": {},
   "outputs": [],
   "source": [
    "from sklearn.metrics import plot_confusion_matrix"
   ]
  },
  {
   "cell_type": "code",
   "execution_count": 52,
   "metadata": {},
   "outputs": [
    {
     "data": {
      "text/plain": [
       "<sklearn.metrics._plot.confusion_matrix.ConfusionMatrixDisplay at 0x27b371a0f10>"
      ]
     },
     "execution_count": 52,
     "metadata": {},
     "output_type": "execute_result"
    },
    {
     "data": {
      "image/png": "[encoded data removed]",
      "text/plain": [
       "<Figure size 432x288 with 2 Axes>"
      ]
     },
     "metadata": {
      "needs_background": "light"
     },
     "output_type": "display_data"
    }
   ],
   "source": [
    "import matplotlib.pyplot as plt\n",
    "plot_confusion_matrix(log_reg, X_test, y_test)"
   ]
  },
  {
   "cell_type": "code",
   "execution_count": 72,
   "metadata": {},
   "outputs": [
    {
     "data": {
      "text/plain": [
       "['asp.net', 'python', 'javascript', 'c++', 'git', 'c#', 'php', 'sql', 'java']"
      ]
     },
     "execution_count": 72,
     "metadata": {},
     "output_type": "execute_result"
    }
   ],
   "source": [
    "tag_id_cf = [810, 4074, 6701, 8596, 9303, 24182, 26612, 27974, 31382]\n",
    "labels_cf= [unique_tags_dict[i] for i in tag_id_cf]\n",
    "labels_cf"
   ]
  },
  {
   "cell_type": "code",
   "execution_count": 86,
   "metadata": {},
   "outputs": [
    {
     "data": {
      "text/plain": [
       "[Text(0, 0.5, 'java'),\n",
       " Text(0, 1.5, 'sql'),\n",
       " Text(0, 2.5, 'php'),\n",
       " Text(0, 3.5, 'c#'),\n",
       " Text(0, 4.5, 'git'),\n",
       " Text(0, 5.5, 'c++'),\n",
       " Text(0, 6.5, 'javascript'),\n",
       " Text(0, 7.5, 'python'),\n",
       " Text(0, 8.5, 'asp.net')]"
      ]
     },
     "execution_count": 86,
     "metadata": {},
     "output_type": "execute_result"
    },
    {
     "data": {
      "image/png": "[encoded data removed]",
      "text/plain": [
       "<Figure size 936x720 with 2 Axes>"
      ]
     },
     "metadata": {
      "needs_background": "light"
     },
     "output_type": "display_data"
    }
   ],
   "source": [
    "asd, ax= plt.subplots(figsize=(13, 10))\n",
    "sns.heatmap(cm, annot=True, cmap='Blues')\n",
    "\n",
    "ax.set_xlabel('Predicted labels')\n",
    "ax.set_ylabel('True labels')\n",
    "\n",
    "ax.set_title('Confusion Matrix')\n",
    "\n",
    "ax.xaxis.set_ticklabels(labels_cf)\n",
    "ax.yaxis.set_ticklabels(labels_cf[::-1])"
   ]
  },
  {
   "cell_type": "code",
   "execution_count": 88,
   "metadata": {},
   "outputs": [],
   "source": [
    "from sklearn.metrics import precision_recall_fscore_support as score"
   ]
  },
  {
   "cell_type": "code",
   "execution_count": 91,
   "metadata": {},
   "outputs": [
    {
     "name": "stdout",
     "output_type": "stream",
     "text": [
      "Precision: [0.7704918  0.94444444 0.75510204 0.57142857 1.         0.33246753\n",
      " 0.90909091 0.7        0.85714286]\n",
      "Recall: [0.47       0.53125    0.5        0.15384615 0.79310345 0.84768212\n",
      " 0.37735849 0.51219512 0.54      ]\n",
      "F1-Score: [0.58385093 0.68       0.60162602 0.24242424 0.88461538 0.47761194\n",
      " 0.53333333 0.5915493  0.66257669]\n",
      "Support: [100  64  74  78  29 151  53  41 100]\n"
     ]
    }
   ],
   "source": [
    "precision, recall, fscore, support = score(y_test, y_pred)\n",
    "\n",
    "print(f'Precision: {precision}')\n",
    "print(f'Recall: {recall}')\n",
    "print(f'F1-Score: {fscore}')\n",
    "print(f'Support: {support}')"
   ]
  },
  {
   "cell_type": "code",
   "execution_count": null,
   "metadata": {},
   "outputs": [],
   "source": []
  }
 ],
 "metadata": {
  "kernelspec": {
   "display_name": "Python 3.8.3 64-bit",
   "language": "python",
   "name": "python3"
  },
  "language_info": {
   "codemirror_mode": {
    "name": "ipython",
    "version": 3
   },
   "file_extension": ".py",
   "mimetype": "text/x-python",
   "name": "python",
   "nbconvert_exporter": "python",
   "pygments_lexer": "ipython3",
   "version": "3.8.3"
  },
  "orig_nbformat": 4,
  "vscode": {
   "interpreter": {
    "hash": "3dddbad05299a33eff5b7e15160c3c13e1a7bf06ca44312c6a8f9ef10a32c58b"
   }
  }
 },
 "nbformat": 4,
 "nbformat_minor": 2
}
